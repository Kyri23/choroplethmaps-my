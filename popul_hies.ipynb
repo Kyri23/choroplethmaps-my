{
 "cells": [
  {
   "cell_type": "markdown",
   "metadata": {},
   "source": [
    "Import Data using URL"
   ]
  },
  {
   "cell_type": "code",
   "execution_count": 10,
   "metadata": {},
   "outputs": [
    {
     "data": {
      "text/html": [
       "<div>\n",
       "<style scoped>\n",
       "    .dataframe tbody tr th:only-of-type {\n",
       "        vertical-align: middle;\n",
       "    }\n",
       "\n",
       "    .dataframe tbody tr th {\n",
       "        vertical-align: top;\n",
       "    }\n",
       "\n",
       "    .dataframe thead th {\n",
       "        text-align: right;\n",
       "    }\n",
       "</style>\n",
       "<table border=\"1\" class=\"dataframe\">\n",
       "  <thead>\n",
       "    <tr style=\"text-align: right;\">\n",
       "      <th></th>\n",
       "      <th>date</th>\n",
       "      <th>state</th>\n",
       "      <th>sex</th>\n",
       "      <th>ethnicity</th>\n",
       "      <th>age</th>\n",
       "      <th>population</th>\n",
       "    </tr>\n",
       "  </thead>\n",
       "  <tbody>\n",
       "    <tr>\n",
       "      <th>0</th>\n",
       "      <td>2020-01-01</td>\n",
       "      <td>Johor</td>\n",
       "      <td>overall_sex</td>\n",
       "      <td>overall_ethnicity</td>\n",
       "      <td>overall_age</td>\n",
       "      <td>4009.7</td>\n",
       "    </tr>\n",
       "    <tr>\n",
       "      <th>1</th>\n",
       "      <td>2020-01-01</td>\n",
       "      <td>Johor</td>\n",
       "      <td>overall_sex</td>\n",
       "      <td>overall_ethnicity</td>\n",
       "      <td>0-4</td>\n",
       "      <td>306.3</td>\n",
       "    </tr>\n",
       "    <tr>\n",
       "      <th>2</th>\n",
       "      <td>2020-01-01</td>\n",
       "      <td>Johor</td>\n",
       "      <td>overall_sex</td>\n",
       "      <td>overall_ethnicity</td>\n",
       "      <td>5-9</td>\n",
       "      <td>322.3</td>\n",
       "    </tr>\n",
       "    <tr>\n",
       "      <th>3</th>\n",
       "      <td>2020-01-01</td>\n",
       "      <td>Johor</td>\n",
       "      <td>overall_sex</td>\n",
       "      <td>overall_ethnicity</td>\n",
       "      <td>10-14</td>\n",
       "      <td>330.7</td>\n",
       "    </tr>\n",
       "    <tr>\n",
       "      <th>4</th>\n",
       "      <td>2020-01-01</td>\n",
       "      <td>Johor</td>\n",
       "      <td>overall_sex</td>\n",
       "      <td>overall_ethnicity</td>\n",
       "      <td>15-19</td>\n",
       "      <td>345.2</td>\n",
       "    </tr>\n",
       "    <tr>\n",
       "      <th>...</th>\n",
       "      <td>...</td>\n",
       "      <td>...</td>\n",
       "      <td>...</td>\n",
       "      <td>...</td>\n",
       "      <td>...</td>\n",
       "      <td>...</td>\n",
       "    </tr>\n",
       "    <tr>\n",
       "      <th>25531</th>\n",
       "      <td>2023-01-01</td>\n",
       "      <td>W.P. Putrajaya</td>\n",
       "      <td>female</td>\n",
       "      <td>other_noncitizen</td>\n",
       "      <td>65-69</td>\n",
       "      <td>0.0</td>\n",
       "    </tr>\n",
       "    <tr>\n",
       "      <th>25532</th>\n",
       "      <td>2023-01-01</td>\n",
       "      <td>W.P. Putrajaya</td>\n",
       "      <td>female</td>\n",
       "      <td>other_noncitizen</td>\n",
       "      <td>70-74</td>\n",
       "      <td>0.0</td>\n",
       "    </tr>\n",
       "    <tr>\n",
       "      <th>25533</th>\n",
       "      <td>2023-01-01</td>\n",
       "      <td>W.P. Putrajaya</td>\n",
       "      <td>female</td>\n",
       "      <td>other_noncitizen</td>\n",
       "      <td>75-79</td>\n",
       "      <td>0.0</td>\n",
       "    </tr>\n",
       "    <tr>\n",
       "      <th>25534</th>\n",
       "      <td>2023-01-01</td>\n",
       "      <td>W.P. Putrajaya</td>\n",
       "      <td>female</td>\n",
       "      <td>other_noncitizen</td>\n",
       "      <td>80-84</td>\n",
       "      <td>0.0</td>\n",
       "    </tr>\n",
       "    <tr>\n",
       "      <th>25535</th>\n",
       "      <td>2023-01-01</td>\n",
       "      <td>W.P. Putrajaya</td>\n",
       "      <td>female</td>\n",
       "      <td>other_noncitizen</td>\n",
       "      <td>85+</td>\n",
       "      <td>0.0</td>\n",
       "    </tr>\n",
       "  </tbody>\n",
       "</table>\n",
       "<p>25536 rows × 6 columns</p>\n",
       "</div>"
      ],
      "text/plain": [
       "            date           state          sex          ethnicity          age  \\\n",
       "0     2020-01-01           Johor  overall_sex  overall_ethnicity  overall_age   \n",
       "1     2020-01-01           Johor  overall_sex  overall_ethnicity          0-4   \n",
       "2     2020-01-01           Johor  overall_sex  overall_ethnicity          5-9   \n",
       "3     2020-01-01           Johor  overall_sex  overall_ethnicity        10-14   \n",
       "4     2020-01-01           Johor  overall_sex  overall_ethnicity        15-19   \n",
       "...          ...             ...          ...                ...          ...   \n",
       "25531 2023-01-01  W.P. Putrajaya       female   other_noncitizen        65-69   \n",
       "25532 2023-01-01  W.P. Putrajaya       female   other_noncitizen        70-74   \n",
       "25533 2023-01-01  W.P. Putrajaya       female   other_noncitizen        75-79   \n",
       "25534 2023-01-01  W.P. Putrajaya       female   other_noncitizen        80-84   \n",
       "25535 2023-01-01  W.P. Putrajaya       female   other_noncitizen          85+   \n",
       "\n",
       "       population  \n",
       "0          4009.7  \n",
       "1           306.3  \n",
       "2           322.3  \n",
       "3           330.7  \n",
       "4           345.2  \n",
       "...           ...  \n",
       "25531         0.0  \n",
       "25532         0.0  \n",
       "25533         0.0  \n",
       "25534         0.0  \n",
       "25535         0.0  \n",
       "\n",
       "[25536 rows x 6 columns]"
      ]
     },
     "execution_count": 10,
     "metadata": {},
     "output_type": "execute_result"
    }
   ],
   "source": [
    "# If not already installed, do: pip install pandas fastparquet\n",
    "# Import population data from DOSM\n",
    "\n",
    "import pandas as pd\n",
    "\n",
    "URL_DATA = 'https://storage.dosm.gov.my/population/population_state.parquet'\n",
    "popul = pd.read_parquet(URL_DATA)\n",
    "if 'date' in popul.columns: popul['date'] = pd.to_datetime(popul['date'])\n",
    "popul"
   ]
  },
  {
   "cell_type": "code",
   "execution_count": 11,
   "metadata": {},
   "outputs": [
    {
     "data": {
      "text/html": [
       "<div>\n",
       "<style scoped>\n",
       "    .dataframe tbody tr th:only-of-type {\n",
       "        vertical-align: middle;\n",
       "    }\n",
       "\n",
       "    .dataframe tbody tr th {\n",
       "        vertical-align: top;\n",
       "    }\n",
       "\n",
       "    .dataframe thead th {\n",
       "        text-align: right;\n",
       "    }\n",
       "</style>\n",
       "<table border=\"1\" class=\"dataframe\">\n",
       "  <thead>\n",
       "    <tr style=\"text-align: right;\">\n",
       "      <th></th>\n",
       "      <th>date</th>\n",
       "      <th>state</th>\n",
       "      <th>population</th>\n",
       "    </tr>\n",
       "  </thead>\n",
       "  <tbody>\n",
       "    <tr>\n",
       "      <th>12768</th>\n",
       "      <td>2022-01-01</td>\n",
       "      <td>Johor</td>\n",
       "      <td>4028.3</td>\n",
       "    </tr>\n",
       "    <tr>\n",
       "      <th>12825</th>\n",
       "      <td>2022-01-01</td>\n",
       "      <td>Kedah</td>\n",
       "      <td>2163.1</td>\n",
       "    </tr>\n",
       "    <tr>\n",
       "      <th>12882</th>\n",
       "      <td>2022-01-01</td>\n",
       "      <td>Kelantan</td>\n",
       "      <td>1830.6</td>\n",
       "    </tr>\n",
       "    <tr>\n",
       "      <th>12939</th>\n",
       "      <td>2022-01-01</td>\n",
       "      <td>Melaka</td>\n",
       "      <td>1008.6</td>\n",
       "    </tr>\n",
       "    <tr>\n",
       "      <th>12996</th>\n",
       "      <td>2022-01-01</td>\n",
       "      <td>Pahang</td>\n",
       "      <td>1207.9</td>\n",
       "    </tr>\n",
       "    <tr>\n",
       "      <th>13053</th>\n",
       "      <td>2022-01-01</td>\n",
       "      <td>Negeri Sembilan</td>\n",
       "      <td>1614.3</td>\n",
       "    </tr>\n",
       "    <tr>\n",
       "      <th>13110</th>\n",
       "      <td>2022-01-01</td>\n",
       "      <td>Perak</td>\n",
       "      <td>2514.4</td>\n",
       "    </tr>\n",
       "    <tr>\n",
       "      <th>13167</th>\n",
       "      <td>2022-01-01</td>\n",
       "      <td>Perlis</td>\n",
       "      <td>289.8</td>\n",
       "    </tr>\n",
       "    <tr>\n",
       "      <th>13224</th>\n",
       "      <td>2022-01-01</td>\n",
       "      <td>Pulau Pinang</td>\n",
       "      <td>1740.9</td>\n",
       "    </tr>\n",
       "    <tr>\n",
       "      <th>13281</th>\n",
       "      <td>2022-01-01</td>\n",
       "      <td>Sabah</td>\n",
       "      <td>3414.9</td>\n",
       "    </tr>\n",
       "    <tr>\n",
       "      <th>13338</th>\n",
       "      <td>2022-01-01</td>\n",
       "      <td>Sarawak</td>\n",
       "      <td>2473.5</td>\n",
       "    </tr>\n",
       "    <tr>\n",
       "      <th>13395</th>\n",
       "      <td>2022-01-01</td>\n",
       "      <td>Selangor</td>\n",
       "      <td>7050.3</td>\n",
       "    </tr>\n",
       "    <tr>\n",
       "      <th>13452</th>\n",
       "      <td>2022-01-01</td>\n",
       "      <td>Terengganu</td>\n",
       "      <td>1186.6</td>\n",
       "    </tr>\n",
       "    <tr>\n",
       "      <th>13509</th>\n",
       "      <td>2022-01-01</td>\n",
       "      <td>W.P. Kuala Lumpur</td>\n",
       "      <td>1961.2</td>\n",
       "    </tr>\n",
       "    <tr>\n",
       "      <th>13566</th>\n",
       "      <td>2022-01-01</td>\n",
       "      <td>W.P. Labuan</td>\n",
       "      <td>96.9</td>\n",
       "    </tr>\n",
       "    <tr>\n",
       "      <th>13623</th>\n",
       "      <td>2022-01-01</td>\n",
       "      <td>W.P. Putrajaya</td>\n",
       "      <td>117.0</td>\n",
       "    </tr>\n",
       "  </tbody>\n",
       "</table>\n",
       "</div>"
      ],
      "text/plain": [
       "            date              state  population\n",
       "12768 2022-01-01              Johor      4028.3\n",
       "12825 2022-01-01              Kedah      2163.1\n",
       "12882 2022-01-01           Kelantan      1830.6\n",
       "12939 2022-01-01             Melaka      1008.6\n",
       "12996 2022-01-01             Pahang      1207.9\n",
       "13053 2022-01-01    Negeri Sembilan      1614.3\n",
       "13110 2022-01-01              Perak      2514.4\n",
       "13167 2022-01-01             Perlis       289.8\n",
       "13224 2022-01-01       Pulau Pinang      1740.9\n",
       "13281 2022-01-01              Sabah      3414.9\n",
       "13338 2022-01-01            Sarawak      2473.5\n",
       "13395 2022-01-01           Selangor      7050.3\n",
       "13452 2022-01-01         Terengganu      1186.6\n",
       "13509 2022-01-01  W.P. Kuala Lumpur      1961.2\n",
       "13566 2022-01-01        W.P. Labuan        96.9\n",
       "13623 2022-01-01     W.P. Putrajaya       117.0"
      ]
     },
     "execution_count": 11,
     "metadata": {},
     "output_type": "execute_result"
    }
   ],
   "source": [
    "overall = popul[(popul['sex']==\"overall_sex\") & (popul['ethnicity']==\"overall_ethnicity\") & (popul['age']==\"overall_age\")] \n",
    "#     ^ filter sex,ethnicity and age to only overall values ^\n",
    "overall = overall.drop(overall.loc[:, 'sex':'age'].columns, axis=1)\n",
    "#     ^ drop column sex, ethnicity and age leave only population ^\n",
    "popul_2022 = overall.loc[overall['date'] == '2022-01-01']\n",
    "#     ^ filter date to only 2022 ^\n",
    "popul_2022\n"
   ]
  },
  {
   "cell_type": "code",
   "execution_count": 12,
   "metadata": {},
   "outputs": [
    {
     "data": {
      "text/plain": [
       "(16, 3)"
      ]
     },
     "execution_count": 12,
     "metadata": {},
     "output_type": "execute_result"
    }
   ],
   "source": [
    "popul_2022.shape"
   ]
  },
  {
   "cell_type": "code",
   "execution_count": 13,
   "metadata": {},
   "outputs": [
    {
     "data": {
      "text/html": [
       "<div>\n",
       "<style scoped>\n",
       "    .dataframe tbody tr th:only-of-type {\n",
       "        vertical-align: middle;\n",
       "    }\n",
       "\n",
       "    .dataframe tbody tr th {\n",
       "        vertical-align: top;\n",
       "    }\n",
       "\n",
       "    .dataframe thead th {\n",
       "        text-align: right;\n",
       "    }\n",
       "</style>\n",
       "<table border=\"1\" class=\"dataframe\">\n",
       "  <thead>\n",
       "    <tr style=\"text-align: right;\">\n",
       "      <th></th>\n",
       "      <th>date</th>\n",
       "      <th>state</th>\n",
       "      <th>income_mean</th>\n",
       "      <th>income_median</th>\n",
       "      <th>expenditure_mean</th>\n",
       "      <th>gini</th>\n",
       "      <th>poverty</th>\n",
       "    </tr>\n",
       "  </thead>\n",
       "  <tbody>\n",
       "    <tr>\n",
       "      <th>0</th>\n",
       "      <td>2022-01-01</td>\n",
       "      <td>Johor</td>\n",
       "      <td>8517</td>\n",
       "      <td>6879</td>\n",
       "      <td>5342</td>\n",
       "      <td>0.36646</td>\n",
       "      <td>4.6</td>\n",
       "    </tr>\n",
       "    <tr>\n",
       "      <th>1</th>\n",
       "      <td>2022-01-01</td>\n",
       "      <td>Kedah</td>\n",
       "      <td>5550</td>\n",
       "      <td>4402</td>\n",
       "      <td>3765</td>\n",
       "      <td>0.35938</td>\n",
       "      <td>9.0</td>\n",
       "    </tr>\n",
       "    <tr>\n",
       "      <th>2</th>\n",
       "      <td>2022-01-01</td>\n",
       "      <td>Kelantan</td>\n",
       "      <td>4885</td>\n",
       "      <td>3614</td>\n",
       "      <td>3505</td>\n",
       "      <td>0.38540</td>\n",
       "      <td>13.2</td>\n",
       "    </tr>\n",
       "    <tr>\n",
       "      <th>3</th>\n",
       "      <td>2022-01-01</td>\n",
       "      <td>Melaka</td>\n",
       "      <td>8057</td>\n",
       "      <td>6210</td>\n",
       "      <td>5707</td>\n",
       "      <td>0.36963</td>\n",
       "      <td>4.2</td>\n",
       "    </tr>\n",
       "    <tr>\n",
       "      <th>4</th>\n",
       "      <td>2022-01-01</td>\n",
       "      <td>Negeri Sembilan</td>\n",
       "      <td>6788</td>\n",
       "      <td>5226</td>\n",
       "      <td>4678</td>\n",
       "      <td>0.36853</td>\n",
       "      <td>4.4</td>\n",
       "    </tr>\n",
       "    <tr>\n",
       "      <th>5</th>\n",
       "      <td>2022-01-01</td>\n",
       "      <td>Pahang</td>\n",
       "      <td>5777</td>\n",
       "      <td>4753</td>\n",
       "      <td>4107</td>\n",
       "      <td>0.30770</td>\n",
       "      <td>6.3</td>\n",
       "    </tr>\n",
       "    <tr>\n",
       "      <th>6</th>\n",
       "      <td>2022-01-01</td>\n",
       "      <td>Pulau Pinang</td>\n",
       "      <td>8267</td>\n",
       "      <td>6502</td>\n",
       "      <td>5322</td>\n",
       "      <td>0.37058</td>\n",
       "      <td>2.0</td>\n",
       "    </tr>\n",
       "    <tr>\n",
       "      <th>7</th>\n",
       "      <td>2022-01-01</td>\n",
       "      <td>Perak</td>\n",
       "      <td>5779</td>\n",
       "      <td>4494</td>\n",
       "      <td>3903</td>\n",
       "      <td>0.36769</td>\n",
       "      <td>7.5</td>\n",
       "    </tr>\n",
       "    <tr>\n",
       "      <th>8</th>\n",
       "      <td>2022-01-01</td>\n",
       "      <td>Perlis</td>\n",
       "      <td>5664</td>\n",
       "      <td>4713</td>\n",
       "      <td>3834</td>\n",
       "      <td>0.33589</td>\n",
       "      <td>4.0</td>\n",
       "    </tr>\n",
       "    <tr>\n",
       "      <th>9</th>\n",
       "      <td>2022-01-01</td>\n",
       "      <td>Selangor</td>\n",
       "      <td>12233</td>\n",
       "      <td>9983</td>\n",
       "      <td>6770</td>\n",
       "      <td>0.36123</td>\n",
       "      <td>1.5</td>\n",
       "    </tr>\n",
       "    <tr>\n",
       "      <th>10</th>\n",
       "      <td>2022-01-01</td>\n",
       "      <td>Terengganu</td>\n",
       "      <td>7248</td>\n",
       "      <td>5878</td>\n",
       "      <td>4796</td>\n",
       "      <td>0.32631</td>\n",
       "      <td>6.2</td>\n",
       "    </tr>\n",
       "    <tr>\n",
       "      <th>11</th>\n",
       "      <td>2022-01-01</td>\n",
       "      <td>Sabah</td>\n",
       "      <td>6171</td>\n",
       "      <td>4577</td>\n",
       "      <td>3342</td>\n",
       "      <td>0.39491</td>\n",
       "      <td>19.7</td>\n",
       "    </tr>\n",
       "    <tr>\n",
       "      <th>12</th>\n",
       "      <td>2022-01-01</td>\n",
       "      <td>Sarawak</td>\n",
       "      <td>6457</td>\n",
       "      <td>4978</td>\n",
       "      <td>3915</td>\n",
       "      <td>0.38180</td>\n",
       "      <td>10.8</td>\n",
       "    </tr>\n",
       "    <tr>\n",
       "      <th>13</th>\n",
       "      <td>2022-01-01</td>\n",
       "      <td>W.P. Kuala Lumpur</td>\n",
       "      <td>13325</td>\n",
       "      <td>10234</td>\n",
       "      <td>7823</td>\n",
       "      <td>0.37960</td>\n",
       "      <td>1.4</td>\n",
       "    </tr>\n",
       "    <tr>\n",
       "      <th>14</th>\n",
       "      <td>2022-01-01</td>\n",
       "      <td>W.P. Labuan</td>\n",
       "      <td>8250</td>\n",
       "      <td>6904</td>\n",
       "      <td>4176</td>\n",
       "      <td>0.30028</td>\n",
       "      <td>2.5</td>\n",
       "    </tr>\n",
       "    <tr>\n",
       "      <th>15</th>\n",
       "      <td>2022-01-01</td>\n",
       "      <td>W.P. Putrajaya</td>\n",
       "      <td>13473</td>\n",
       "      <td>10056</td>\n",
       "      <td>8897</td>\n",
       "      <td>0.36780</td>\n",
       "      <td>0.1</td>\n",
       "    </tr>\n",
       "  </tbody>\n",
       "</table>\n",
       "</div>"
      ],
      "text/plain": [
       "         date              state  income_mean  income_median  \\\n",
       "0  2022-01-01              Johor         8517           6879   \n",
       "1  2022-01-01              Kedah         5550           4402   \n",
       "2  2022-01-01           Kelantan         4885           3614   \n",
       "3  2022-01-01             Melaka         8057           6210   \n",
       "4  2022-01-01    Negeri Sembilan         6788           5226   \n",
       "5  2022-01-01             Pahang         5777           4753   \n",
       "6  2022-01-01       Pulau Pinang         8267           6502   \n",
       "7  2022-01-01              Perak         5779           4494   \n",
       "8  2022-01-01             Perlis         5664           4713   \n",
       "9  2022-01-01           Selangor        12233           9983   \n",
       "10 2022-01-01         Terengganu         7248           5878   \n",
       "11 2022-01-01              Sabah         6171           4577   \n",
       "12 2022-01-01            Sarawak         6457           4978   \n",
       "13 2022-01-01  W.P. Kuala Lumpur        13325          10234   \n",
       "14 2022-01-01        W.P. Labuan         8250           6904   \n",
       "15 2022-01-01     W.P. Putrajaya        13473          10056   \n",
       "\n",
       "    expenditure_mean     gini  poverty  \n",
       "0               5342  0.36646      4.6  \n",
       "1               3765  0.35938      9.0  \n",
       "2               3505  0.38540     13.2  \n",
       "3               5707  0.36963      4.2  \n",
       "4               4678  0.36853      4.4  \n",
       "5               4107  0.30770      6.3  \n",
       "6               5322  0.37058      2.0  \n",
       "7               3903  0.36769      7.5  \n",
       "8               3834  0.33589      4.0  \n",
       "9               6770  0.36123      1.5  \n",
       "10              4796  0.32631      6.2  \n",
       "11              3342  0.39491     19.7  \n",
       "12              3915  0.38180     10.8  \n",
       "13              7823  0.37960      1.4  \n",
       "14              4176  0.30028      2.5  \n",
       "15              8897  0.36780      0.1  "
      ]
     },
     "execution_count": 13,
     "metadata": {},
     "output_type": "execute_result"
    }
   ],
   "source": [
    "# If not already installed, do: pip install pandas fastparquet\n",
    "# Import population household income data from DOSM\n",
    "\n",
    "import pandas as pd\n",
    "\n",
    "URL_DATA = 'https://storage.dosm.gov.my/hies/hies_state.parquet'\n",
    "\n",
    "hies = pd.read_parquet(URL_DATA)\n",
    "if 'date' in hies.columns: hies['date'] = pd.to_datetime(hies['date'])\n",
    "hies"
   ]
  },
  {
   "cell_type": "markdown",
   "metadata": {},
   "source": [
    "JOIN dataset Population + Household Income"
   ]
  },
  {
   "cell_type": "code",
   "execution_count": 15,
   "metadata": {},
   "outputs": [
    {
     "data": {
      "text/html": [
       "<div>\n",
       "<style scoped>\n",
       "    .dataframe tbody tr th:only-of-type {\n",
       "        vertical-align: middle;\n",
       "    }\n",
       "\n",
       "    .dataframe tbody tr th {\n",
       "        vertical-align: top;\n",
       "    }\n",
       "\n",
       "    .dataframe thead th {\n",
       "        text-align: right;\n",
       "    }\n",
       "</style>\n",
       "<table border=\"1\" class=\"dataframe\">\n",
       "  <thead>\n",
       "    <tr style=\"text-align: right;\">\n",
       "      <th></th>\n",
       "      <th>date</th>\n",
       "      <th>state</th>\n",
       "      <th>population</th>\n",
       "      <th>income_mean</th>\n",
       "      <th>income_median</th>\n",
       "      <th>expenditure_mean</th>\n",
       "      <th>gini</th>\n",
       "      <th>poverty</th>\n",
       "    </tr>\n",
       "  </thead>\n",
       "  <tbody>\n",
       "    <tr>\n",
       "      <th>13</th>\n",
       "      <td>2022-01-01</td>\n",
       "      <td>Federal Territory of Kuala Lumpur</td>\n",
       "      <td>1961.2</td>\n",
       "      <td>13325</td>\n",
       "      <td>10234</td>\n",
       "      <td>7823</td>\n",
       "      <td>0.37960</td>\n",
       "      <td>1.4</td>\n",
       "    </tr>\n",
       "    <tr>\n",
       "      <th>14</th>\n",
       "      <td>2022-01-01</td>\n",
       "      <td>Federal Territory of Labuan</td>\n",
       "      <td>96.9</td>\n",
       "      <td>8250</td>\n",
       "      <td>6904</td>\n",
       "      <td>4176</td>\n",
       "      <td>0.30028</td>\n",
       "      <td>2.5</td>\n",
       "    </tr>\n",
       "    <tr>\n",
       "      <th>15</th>\n",
       "      <td>2022-01-01</td>\n",
       "      <td>Federal Territory of Putrajaya</td>\n",
       "      <td>117.0</td>\n",
       "      <td>13473</td>\n",
       "      <td>10056</td>\n",
       "      <td>8897</td>\n",
       "      <td>0.36780</td>\n",
       "      <td>0.1</td>\n",
       "    </tr>\n",
       "    <tr>\n",
       "      <th>0</th>\n",
       "      <td>2022-01-01</td>\n",
       "      <td>Johor</td>\n",
       "      <td>4028.3</td>\n",
       "      <td>8517</td>\n",
       "      <td>6879</td>\n",
       "      <td>5342</td>\n",
       "      <td>0.36646</td>\n",
       "      <td>4.6</td>\n",
       "    </tr>\n",
       "    <tr>\n",
       "      <th>1</th>\n",
       "      <td>2022-01-01</td>\n",
       "      <td>Kedah</td>\n",
       "      <td>2163.1</td>\n",
       "      <td>5550</td>\n",
       "      <td>4402</td>\n",
       "      <td>3765</td>\n",
       "      <td>0.35938</td>\n",
       "      <td>9.0</td>\n",
       "    </tr>\n",
       "    <tr>\n",
       "      <th>2</th>\n",
       "      <td>2022-01-01</td>\n",
       "      <td>Kelantan</td>\n",
       "      <td>1830.6</td>\n",
       "      <td>4885</td>\n",
       "      <td>3614</td>\n",
       "      <td>3505</td>\n",
       "      <td>0.38540</td>\n",
       "      <td>13.2</td>\n",
       "    </tr>\n",
       "    <tr>\n",
       "      <th>3</th>\n",
       "      <td>2022-01-01</td>\n",
       "      <td>Melaka</td>\n",
       "      <td>1008.6</td>\n",
       "      <td>8057</td>\n",
       "      <td>6210</td>\n",
       "      <td>5707</td>\n",
       "      <td>0.36963</td>\n",
       "      <td>4.2</td>\n",
       "    </tr>\n",
       "    <tr>\n",
       "      <th>5</th>\n",
       "      <td>2022-01-01</td>\n",
       "      <td>Negeri Sembilan</td>\n",
       "      <td>1614.3</td>\n",
       "      <td>6788</td>\n",
       "      <td>5226</td>\n",
       "      <td>4678</td>\n",
       "      <td>0.36853</td>\n",
       "      <td>4.4</td>\n",
       "    </tr>\n",
       "    <tr>\n",
       "      <th>4</th>\n",
       "      <td>2022-01-01</td>\n",
       "      <td>Pahang</td>\n",
       "      <td>1207.9</td>\n",
       "      <td>5777</td>\n",
       "      <td>4753</td>\n",
       "      <td>4107</td>\n",
       "      <td>0.30770</td>\n",
       "      <td>6.3</td>\n",
       "    </tr>\n",
       "    <tr>\n",
       "      <th>8</th>\n",
       "      <td>2022-01-01</td>\n",
       "      <td>Penang</td>\n",
       "      <td>1740.9</td>\n",
       "      <td>8267</td>\n",
       "      <td>6502</td>\n",
       "      <td>5322</td>\n",
       "      <td>0.37058</td>\n",
       "      <td>2.0</td>\n",
       "    </tr>\n",
       "    <tr>\n",
       "      <th>6</th>\n",
       "      <td>2022-01-01</td>\n",
       "      <td>Perak</td>\n",
       "      <td>2514.4</td>\n",
       "      <td>5779</td>\n",
       "      <td>4494</td>\n",
       "      <td>3903</td>\n",
       "      <td>0.36769</td>\n",
       "      <td>7.5</td>\n",
       "    </tr>\n",
       "    <tr>\n",
       "      <th>7</th>\n",
       "      <td>2022-01-01</td>\n",
       "      <td>Perlis</td>\n",
       "      <td>289.8</td>\n",
       "      <td>5664</td>\n",
       "      <td>4713</td>\n",
       "      <td>3834</td>\n",
       "      <td>0.33589</td>\n",
       "      <td>4.0</td>\n",
       "    </tr>\n",
       "    <tr>\n",
       "      <th>9</th>\n",
       "      <td>2022-01-01</td>\n",
       "      <td>Sabah</td>\n",
       "      <td>3414.9</td>\n",
       "      <td>6171</td>\n",
       "      <td>4577</td>\n",
       "      <td>3342</td>\n",
       "      <td>0.39491</td>\n",
       "      <td>19.7</td>\n",
       "    </tr>\n",
       "    <tr>\n",
       "      <th>10</th>\n",
       "      <td>2022-01-01</td>\n",
       "      <td>Sarawak</td>\n",
       "      <td>2473.5</td>\n",
       "      <td>6457</td>\n",
       "      <td>4978</td>\n",
       "      <td>3915</td>\n",
       "      <td>0.38180</td>\n",
       "      <td>10.8</td>\n",
       "    </tr>\n",
       "    <tr>\n",
       "      <th>11</th>\n",
       "      <td>2022-01-01</td>\n",
       "      <td>Selangor</td>\n",
       "      <td>7050.3</td>\n",
       "      <td>12233</td>\n",
       "      <td>9983</td>\n",
       "      <td>6770</td>\n",
       "      <td>0.36123</td>\n",
       "      <td>1.5</td>\n",
       "    </tr>\n",
       "    <tr>\n",
       "      <th>12</th>\n",
       "      <td>2022-01-01</td>\n",
       "      <td>Terengganu</td>\n",
       "      <td>1186.6</td>\n",
       "      <td>7248</td>\n",
       "      <td>5878</td>\n",
       "      <td>4796</td>\n",
       "      <td>0.32631</td>\n",
       "      <td>6.2</td>\n",
       "    </tr>\n",
       "  </tbody>\n",
       "</table>\n",
       "</div>"
      ],
      "text/plain": [
       "         date                              state  population  income_mean  \\\n",
       "13 2022-01-01  Federal Territory of Kuala Lumpur      1961.2        13325   \n",
       "14 2022-01-01        Federal Territory of Labuan        96.9         8250   \n",
       "15 2022-01-01     Federal Territory of Putrajaya       117.0        13473   \n",
       "0  2022-01-01                              Johor      4028.3         8517   \n",
       "1  2022-01-01                              Kedah      2163.1         5550   \n",
       "2  2022-01-01                           Kelantan      1830.6         4885   \n",
       "3  2022-01-01                             Melaka      1008.6         8057   \n",
       "5  2022-01-01                    Negeri Sembilan      1614.3         6788   \n",
       "4  2022-01-01                             Pahang      1207.9         5777   \n",
       "8  2022-01-01                             Penang      1740.9         8267   \n",
       "6  2022-01-01                              Perak      2514.4         5779   \n",
       "7  2022-01-01                             Perlis       289.8         5664   \n",
       "9  2022-01-01                              Sabah      3414.9         6171   \n",
       "10 2022-01-01                            Sarawak      2473.5         6457   \n",
       "11 2022-01-01                           Selangor      7050.3        12233   \n",
       "12 2022-01-01                         Terengganu      1186.6         7248   \n",
       "\n",
       "    income_median  expenditure_mean     gini  poverty  \n",
       "13          10234              7823  0.37960      1.4  \n",
       "14           6904              4176  0.30028      2.5  \n",
       "15          10056              8897  0.36780      0.1  \n",
       "0            6879              5342  0.36646      4.6  \n",
       "1            4402              3765  0.35938      9.0  \n",
       "2            3614              3505  0.38540     13.2  \n",
       "3            6210              5707  0.36963      4.2  \n",
       "5            5226              4678  0.36853      4.4  \n",
       "4            4753              4107  0.30770      6.3  \n",
       "8            6502              5322  0.37058      2.0  \n",
       "6            4494              3903  0.36769      7.5  \n",
       "7            4713              3834  0.33589      4.0  \n",
       "9            4577              3342  0.39491     19.7  \n",
       "10           4978              3915  0.38180     10.8  \n",
       "11           9983              6770  0.36123      1.5  \n",
       "12           5878              4796  0.32631      6.2  "
      ]
     },
     "execution_count": 15,
     "metadata": {},
     "output_type": "execute_result"
    }
   ],
   "source": [
    "import pandas as pd\n",
    "import numpy as np\n",
    "\n",
    "pov_rate = pd.merge(popul_2022,hies, left_on =['date','state'], right_on = ['date','state'], how = 'inner')\n",
    "pov_rate=pov_rate.replace('W.P. Kuala Lumpur','Federal Territory of Kuala Lumpur')\n",
    "pov_rate=pov_rate.replace('W.P. Labuan','Federal Territory of Labuan')\n",
    "pov_rate=pov_rate.replace('W.P. Putrajaya','Federal Territory of Putrajaya')\n",
    "pov_rate=pov_rate.replace('Pulau Pinang','Penang')\n",
    "pov_rate.sort_values(by=['state'])"
   ]
  },
  {
   "cell_type": "markdown",
   "metadata": {},
   "source": [
    "Choropleth Maps using GeoJSON"
   ]
  },
  {
   "cell_type": "code",
   "execution_count": 20,
   "metadata": {},
   "outputs": [
    {
     "data": {
      "application/vnd.plotly.v1+json": {
       "config": {
        "plotlyServerURL": "https://plot.ly"
       },
       "data": [
        {
         "colorbar": {
          "tickprefix": "%",
          "title": {
           "text": "Poverty rates %"
          }
         },
         "colorscale": [
          [
           0,
           "rgb(255,245,240)"
          ],
          [
           0.125,
           "rgb(254,224,210)"
          ],
          [
           0.25,
           "rgb(252,187,161)"
          ],
          [
           0.375,
           "rgb(252,146,114)"
          ],
          [
           0.5,
           "rgb(251,106,74)"
          ],
          [
           0.625,
           "rgb(239,59,44)"
          ],
          [
           0.75,
           "rgb(203,24,29)"
          ],
          [
           0.875,
           "rgb(165,15,21)"
          ],
          [
           1,
           "rgb(103,0,13)"
          ]
         ],
         "featureidkey": "properties.Name",
         "geojson": "states.geojson",
         "locations": [
          "Johor",
          "Kedah",
          "Kelantan",
          "Melaka",
          "Pahang",
          "Negeri Sembilan",
          "Perak",
          "Perlis",
          "Penang",
          "Sabah",
          "Sarawak",
          "Selangor",
          "Terengganu",
          "Federal Territory of Kuala Lumpur",
          "Federal Territory of Labuan",
          "Federal Territory of Putrajaya"
         ],
         "marker": {
          "line": {
           "color": "white"
          }
         },
         "showscale": true,
         "text": [
          "% Gini: 0.36646<br>Mean Income: 8517<br>Mean Expenditure: 5342<br>Population: 4028.3k",
          "% Gini: 0.35938<br>Mean Income: 5550<br>Mean Expenditure: 3765<br>Population: 2163.1k",
          "% Gini: 0.3854<br>Mean Income: 4885<br>Mean Expenditure: 3505<br>Population: 1830.6k",
          "% Gini: 0.36963<br>Mean Income: 8057<br>Mean Expenditure: 5707<br>Population: 1008.6k",
          "% Gini: 0.3077<br>Mean Income: 5777<br>Mean Expenditure: 4107<br>Population: 1207.9k",
          "% Gini: 0.36853<br>Mean Income: 6788<br>Mean Expenditure: 4678<br>Population: 1614.3k",
          "% Gini: 0.36769<br>Mean Income: 5779<br>Mean Expenditure: 3903<br>Population: 2514.4k",
          "% Gini: 0.33589<br>Mean Income: 5664<br>Mean Expenditure: 3834<br>Population: 289.8k",
          "% Gini: 0.37058<br>Mean Income: 8267<br>Mean Expenditure: 5322<br>Population: 1740.9k",
          "% Gini: 0.39491<br>Mean Income: 6171<br>Mean Expenditure: 3342<br>Population: 3414.9k",
          "% Gini: 0.3818<br>Mean Income: 6457<br>Mean Expenditure: 3915<br>Population: 2473.5k",
          "% Gini: 0.36123<br>Mean Income: 12233<br>Mean Expenditure: 6770<br>Population: 7050.3k",
          "% Gini: 0.32631<br>Mean Income: 7248<br>Mean Expenditure: 4796<br>Population: 1186.6k",
          "% Gini: 0.3796<br>Mean Income: 13325<br>Mean Expenditure: 7823<br>Population: 1961.2k",
          "% Gini: 0.30028<br>Mean Income: 8250<br>Mean Expenditure: 4176<br>Population: 96.9k",
          "% Gini: 0.3678<br>Mean Income: 13473<br>Mean Expenditure: 8897<br>Population: 117.0k"
         ],
         "type": "choroplethmapbox",
         "z": [
          "4.6",
          "9.0",
          "13.2",
          "4.2",
          "6.3",
          "4.4",
          "7.5",
          "4.0",
          "2.0",
          "19.7",
          "10.8",
          "1.5",
          "6.2",
          "1.4",
          "2.5",
          "0.1"
         ],
         "zauto": true
        }
       ],
       "layout": {
        "mapbox": {
         "center": {
          "lat": 4,
          "lon": 109.688
         },
         "style": "carto-positron",
         "zoom": 4.8
        },
        "template": {
         "data": {
          "bar": [
           {
            "error_x": {
             "color": "#2a3f5f"
            },
            "error_y": {
             "color": "#2a3f5f"
            },
            "marker": {
             "line": {
              "color": "#E5ECF6",
              "width": 0.5
             },
             "pattern": {
              "fillmode": "overlay",
              "size": 10,
              "solidity": 0.2
             }
            },
            "type": "bar"
           }
          ],
          "barpolar": [
           {
            "marker": {
             "line": {
              "color": "#E5ECF6",
              "width": 0.5
             },
             "pattern": {
              "fillmode": "overlay",
              "size": 10,
              "solidity": 0.2
             }
            },
            "type": "barpolar"
           }
          ],
          "carpet": [
           {
            "aaxis": {
             "endlinecolor": "#2a3f5f",
             "gridcolor": "white",
             "linecolor": "white",
             "minorgridcolor": "white",
             "startlinecolor": "#2a3f5f"
            },
            "baxis": {
             "endlinecolor": "#2a3f5f",
             "gridcolor": "white",
             "linecolor": "white",
             "minorgridcolor": "white",
             "startlinecolor": "#2a3f5f"
            },
            "type": "carpet"
           }
          ],
          "choropleth": [
           {
            "colorbar": {
             "outlinewidth": 0,
             "ticks": ""
            },
            "type": "choropleth"
           }
          ],
          "contour": [
           {
            "colorbar": {
             "outlinewidth": 0,
             "ticks": ""
            },
            "colorscale": [
             [
              0,
              "#0d0887"
             ],
             [
              0.1111111111111111,
              "#46039f"
             ],
             [
              0.2222222222222222,
              "#7201a8"
             ],
             [
              0.3333333333333333,
              "#9c179e"
             ],
             [
              0.4444444444444444,
              "#bd3786"
             ],
             [
              0.5555555555555556,
              "#d8576b"
             ],
             [
              0.6666666666666666,
              "#ed7953"
             ],
             [
              0.7777777777777778,
              "#fb9f3a"
             ],
             [
              0.8888888888888888,
              "#fdca26"
             ],
             [
              1,
              "#f0f921"
             ]
            ],
            "type": "contour"
           }
          ],
          "contourcarpet": [
           {
            "colorbar": {
             "outlinewidth": 0,
             "ticks": ""
            },
            "type": "contourcarpet"
           }
          ],
          "heatmap": [
           {
            "colorbar": {
             "outlinewidth": 0,
             "ticks": ""
            },
            "colorscale": [
             [
              0,
              "#0d0887"
             ],
             [
              0.1111111111111111,
              "#46039f"
             ],
             [
              0.2222222222222222,
              "#7201a8"
             ],
             [
              0.3333333333333333,
              "#9c179e"
             ],
             [
              0.4444444444444444,
              "#bd3786"
             ],
             [
              0.5555555555555556,
              "#d8576b"
             ],
             [
              0.6666666666666666,
              "#ed7953"
             ],
             [
              0.7777777777777778,
              "#fb9f3a"
             ],
             [
              0.8888888888888888,
              "#fdca26"
             ],
             [
              1,
              "#f0f921"
             ]
            ],
            "type": "heatmap"
           }
          ],
          "heatmapgl": [
           {
            "colorbar": {
             "outlinewidth": 0,
             "ticks": ""
            },
            "colorscale": [
             [
              0,
              "#0d0887"
             ],
             [
              0.1111111111111111,
              "#46039f"
             ],
             [
              0.2222222222222222,
              "#7201a8"
             ],
             [
              0.3333333333333333,
              "#9c179e"
             ],
             [
              0.4444444444444444,
              "#bd3786"
             ],
             [
              0.5555555555555556,
              "#d8576b"
             ],
             [
              0.6666666666666666,
              "#ed7953"
             ],
             [
              0.7777777777777778,
              "#fb9f3a"
             ],
             [
              0.8888888888888888,
              "#fdca26"
             ],
             [
              1,
              "#f0f921"
             ]
            ],
            "type": "heatmapgl"
           }
          ],
          "histogram": [
           {
            "marker": {
             "pattern": {
              "fillmode": "overlay",
              "size": 10,
              "solidity": 0.2
             }
            },
            "type": "histogram"
           }
          ],
          "histogram2d": [
           {
            "colorbar": {
             "outlinewidth": 0,
             "ticks": ""
            },
            "colorscale": [
             [
              0,
              "#0d0887"
             ],
             [
              0.1111111111111111,
              "#46039f"
             ],
             [
              0.2222222222222222,
              "#7201a8"
             ],
             [
              0.3333333333333333,
              "#9c179e"
             ],
             [
              0.4444444444444444,
              "#bd3786"
             ],
             [
              0.5555555555555556,
              "#d8576b"
             ],
             [
              0.6666666666666666,
              "#ed7953"
             ],
             [
              0.7777777777777778,
              "#fb9f3a"
             ],
             [
              0.8888888888888888,
              "#fdca26"
             ],
             [
              1,
              "#f0f921"
             ]
            ],
            "type": "histogram2d"
           }
          ],
          "histogram2dcontour": [
           {
            "colorbar": {
             "outlinewidth": 0,
             "ticks": ""
            },
            "colorscale": [
             [
              0,
              "#0d0887"
             ],
             [
              0.1111111111111111,
              "#46039f"
             ],
             [
              0.2222222222222222,
              "#7201a8"
             ],
             [
              0.3333333333333333,
              "#9c179e"
             ],
             [
              0.4444444444444444,
              "#bd3786"
             ],
             [
              0.5555555555555556,
              "#d8576b"
             ],
             [
              0.6666666666666666,
              "#ed7953"
             ],
             [
              0.7777777777777778,
              "#fb9f3a"
             ],
             [
              0.8888888888888888,
              "#fdca26"
             ],
             [
              1,
              "#f0f921"
             ]
            ],
            "type": "histogram2dcontour"
           }
          ],
          "mesh3d": [
           {
            "colorbar": {
             "outlinewidth": 0,
             "ticks": ""
            },
            "type": "mesh3d"
           }
          ],
          "parcoords": [
           {
            "line": {
             "colorbar": {
              "outlinewidth": 0,
              "ticks": ""
             }
            },
            "type": "parcoords"
           }
          ],
          "pie": [
           {
            "automargin": true,
            "type": "pie"
           }
          ],
          "scatter": [
           {
            "fillpattern": {
             "fillmode": "overlay",
             "size": 10,
             "solidity": 0.2
            },
            "type": "scatter"
           }
          ],
          "scatter3d": [
           {
            "line": {
             "colorbar": {
              "outlinewidth": 0,
              "ticks": ""
             }
            },
            "marker": {
             "colorbar": {
              "outlinewidth": 0,
              "ticks": ""
             }
            },
            "type": "scatter3d"
           }
          ],
          "scattercarpet": [
           {
            "marker": {
             "colorbar": {
              "outlinewidth": 0,
              "ticks": ""
             }
            },
            "type": "scattercarpet"
           }
          ],
          "scattergeo": [
           {
            "marker": {
             "colorbar": {
              "outlinewidth": 0,
              "ticks": ""
             }
            },
            "type": "scattergeo"
           }
          ],
          "scattergl": [
           {
            "marker": {
             "colorbar": {
              "outlinewidth": 0,
              "ticks": ""
             }
            },
            "type": "scattergl"
           }
          ],
          "scattermapbox": [
           {
            "marker": {
             "colorbar": {
              "outlinewidth": 0,
              "ticks": ""
             }
            },
            "type": "scattermapbox"
           }
          ],
          "scatterpolar": [
           {
            "marker": {
             "colorbar": {
              "outlinewidth": 0,
              "ticks": ""
             }
            },
            "type": "scatterpolar"
           }
          ],
          "scatterpolargl": [
           {
            "marker": {
             "colorbar": {
              "outlinewidth": 0,
              "ticks": ""
             }
            },
            "type": "scatterpolargl"
           }
          ],
          "scatterternary": [
           {
            "marker": {
             "colorbar": {
              "outlinewidth": 0,
              "ticks": ""
             }
            },
            "type": "scatterternary"
           }
          ],
          "surface": [
           {
            "colorbar": {
             "outlinewidth": 0,
             "ticks": ""
            },
            "colorscale": [
             [
              0,
              "#0d0887"
             ],
             [
              0.1111111111111111,
              "#46039f"
             ],
             [
              0.2222222222222222,
              "#7201a8"
             ],
             [
              0.3333333333333333,
              "#9c179e"
             ],
             [
              0.4444444444444444,
              "#bd3786"
             ],
             [
              0.5555555555555556,
              "#d8576b"
             ],
             [
              0.6666666666666666,
              "#ed7953"
             ],
             [
              0.7777777777777778,
              "#fb9f3a"
             ],
             [
              0.8888888888888888,
              "#fdca26"
             ],
             [
              1,
              "#f0f921"
             ]
            ],
            "type": "surface"
           }
          ],
          "table": [
           {
            "cells": {
             "fill": {
              "color": "#EBF0F8"
             },
             "line": {
              "color": "white"
             }
            },
            "header": {
             "fill": {
              "color": "#C8D4E3"
             },
             "line": {
              "color": "white"
             }
            },
            "type": "table"
           }
          ]
         },
         "layout": {
          "annotationdefaults": {
           "arrowcolor": "#2a3f5f",
           "arrowhead": 0,
           "arrowwidth": 1
          },
          "autotypenumbers": "strict",
          "coloraxis": {
           "colorbar": {
            "outlinewidth": 0,
            "ticks": ""
           }
          },
          "colorscale": {
           "diverging": [
            [
             0,
             "#8e0152"
            ],
            [
             0.1,
             "#c51b7d"
            ],
            [
             0.2,
             "#de77ae"
            ],
            [
             0.3,
             "#f1b6da"
            ],
            [
             0.4,
             "#fde0ef"
            ],
            [
             0.5,
             "#f7f7f7"
            ],
            [
             0.6,
             "#e6f5d0"
            ],
            [
             0.7,
             "#b8e186"
            ],
            [
             0.8,
             "#7fbc41"
            ],
            [
             0.9,
             "#4d9221"
            ],
            [
             1,
             "#276419"
            ]
           ],
           "sequential": [
            [
             0,
             "#0d0887"
            ],
            [
             0.1111111111111111,
             "#46039f"
            ],
            [
             0.2222222222222222,
             "#7201a8"
            ],
            [
             0.3333333333333333,
             "#9c179e"
            ],
            [
             0.4444444444444444,
             "#bd3786"
            ],
            [
             0.5555555555555556,
             "#d8576b"
            ],
            [
             0.6666666666666666,
             "#ed7953"
            ],
            [
             0.7777777777777778,
             "#fb9f3a"
            ],
            [
             0.8888888888888888,
             "#fdca26"
            ],
            [
             1,
             "#f0f921"
            ]
           ],
           "sequentialminus": [
            [
             0,
             "#0d0887"
            ],
            [
             0.1111111111111111,
             "#46039f"
            ],
            [
             0.2222222222222222,
             "#7201a8"
            ],
            [
             0.3333333333333333,
             "#9c179e"
            ],
            [
             0.4444444444444444,
             "#bd3786"
            ],
            [
             0.5555555555555556,
             "#d8576b"
            ],
            [
             0.6666666666666666,
             "#ed7953"
            ],
            [
             0.7777777777777778,
             "#fb9f3a"
            ],
            [
             0.8888888888888888,
             "#fdca26"
            ],
            [
             1,
             "#f0f921"
            ]
           ]
          },
          "colorway": [
           "#636efa",
           "#EF553B",
           "#00cc96",
           "#ab63fa",
           "#FFA15A",
           "#19d3f3",
           "#FF6692",
           "#B6E880",
           "#FF97FF",
           "#FECB52"
          ],
          "font": {
           "color": "#2a3f5f"
          },
          "geo": {
           "bgcolor": "white",
           "lakecolor": "white",
           "landcolor": "#E5ECF6",
           "showlakes": true,
           "showland": true,
           "subunitcolor": "white"
          },
          "hoverlabel": {
           "align": "left"
          },
          "hovermode": "closest",
          "mapbox": {
           "style": "light"
          },
          "paper_bgcolor": "white",
          "plot_bgcolor": "#E5ECF6",
          "polar": {
           "angularaxis": {
            "gridcolor": "white",
            "linecolor": "white",
            "ticks": ""
           },
           "bgcolor": "#E5ECF6",
           "radialaxis": {
            "gridcolor": "white",
            "linecolor": "white",
            "ticks": ""
           }
          },
          "scene": {
           "xaxis": {
            "backgroundcolor": "#E5ECF6",
            "gridcolor": "white",
            "gridwidth": 2,
            "linecolor": "white",
            "showbackground": true,
            "ticks": "",
            "zerolinecolor": "white"
           },
           "yaxis": {
            "backgroundcolor": "#E5ECF6",
            "gridcolor": "white",
            "gridwidth": 2,
            "linecolor": "white",
            "showbackground": true,
            "ticks": "",
            "zerolinecolor": "white"
           },
           "zaxis": {
            "backgroundcolor": "#E5ECF6",
            "gridcolor": "white",
            "gridwidth": 2,
            "linecolor": "white",
            "showbackground": true,
            "ticks": "",
            "zerolinecolor": "white"
           }
          },
          "shapedefaults": {
           "line": {
            "color": "#2a3f5f"
           }
          },
          "ternary": {
           "aaxis": {
            "gridcolor": "white",
            "linecolor": "white",
            "ticks": ""
           },
           "baxis": {
            "gridcolor": "white",
            "linecolor": "white",
            "ticks": ""
           },
           "bgcolor": "#E5ECF6",
           "caxis": {
            "gridcolor": "white",
            "linecolor": "white",
            "ticks": ""
           }
          },
          "title": {
           "x": 0.05
          },
          "xaxis": {
           "automargin": true,
           "gridcolor": "white",
           "linecolor": "white",
           "ticks": "",
           "title": {
            "standoff": 15
           },
           "zerolinecolor": "white",
           "zerolinewidth": 2
          },
          "yaxis": {
           "automargin": true,
           "gridcolor": "white",
           "linecolor": "white",
           "ticks": "",
           "title": {
            "standoff": 15
           },
           "zerolinecolor": "white",
           "zerolinewidth": 2
          }
         }
        },
        "title": {
         "text": "Malaysia Poverty Rates by State in 2022"
        }
       }
      }
     },
     "metadata": {},
     "output_type": "display_data"
    }
   ],
   "source": [
    "from plotly import graph_objects as go\n",
    "\n",
    "for col in pov_rate.columns:\n",
    "    pov_rate[col] = pov_rate[col].astype(str)\n",
    "    \n",
    "pov_rate['text'] = '% Gini: ' + pov_rate['gini'] + '<br>' + \\\n",
    "    'Mean Income: ' + pov_rate['income_mean'] + '<br>' + \\\n",
    "    'Mean Expenditure: ' + pov_rate['expenditure_mean'] + '<br>' + \\\n",
    "    'Population: ' + pov_rate['population'] + 'k'\n",
    "    \n",
    "#Create figure object\n",
    "fig = go.Figure(\n",
    "    go.Choroplethmapbox(\n",
    "        geojson = 'states.geojson', #Assign geojson file\n",
    "        featureidkey = 'properties.Name', #Assign feature key\n",
    "        locations = pov_rate['state'], #Assign location data\n",
    "        z = pov_rate['poverty'], #Assign information data\n",
    "        zauto = True,\n",
    "        colorscale = 'reds',\n",
    "        colorbar_title='Poverty rates %',\n",
    "        colorbar_tickprefix='%',\n",
    "        showscale = True,\n",
    "        marker_line_color='white',\n",
    "        text=pov_rate['text']\n",
    "    )\n",
    ")\n",
    "\n",
    "#Update layout\n",
    "fig.update_layout(\n",
    "    title_text='Malaysia Poverty Rates by State in 2022',\n",
    "    mapbox_style = \"carto-positron\", #Decide a style for the map\n",
    "    mapbox_zoom = 4.8, #Zoom in scale\n",
    "    mapbox_center = {\"lat\": 4, \"lon\": 109.688}, #Center location of the map\n",
    ")\n",
    "fig.show()"
   ]
  },
  {
   "cell_type": "code",
   "execution_count": 23,
   "metadata": {},
   "outputs": [
    {
     "data": {
      "application/vnd.plotly.v1+json": {
       "config": {
        "plotlyServerURL": "https://plot.ly"
       },
       "data": [
        {
         "colorbar": {
          "title": {
           "text": "Population (k)"
          }
         },
         "colorscale": [
          [
           0,
           "rgb(247,244,249)"
          ],
          [
           0.125,
           "rgb(231,225,239)"
          ],
          [
           0.25,
           "rgb(212,185,218)"
          ],
          [
           0.375,
           "rgb(201,148,199)"
          ],
          [
           0.5,
           "rgb(223,101,176)"
          ],
          [
           0.625,
           "rgb(231,41,138)"
          ],
          [
           0.75,
           "rgb(206,18,86)"
          ],
          [
           0.875,
           "rgb(152,0,67)"
          ],
          [
           1,
           "rgb(103,0,31)"
          ]
         ],
         "featureidkey": "properties.Name",
         "geojson": "states.geojson",
         "locations": [
          "Johor",
          "Kedah",
          "Kelantan",
          "Melaka",
          "Pahang",
          "Negeri Sembilan",
          "Perak",
          "Perlis",
          "Penang",
          "Sabah",
          "Sarawak",
          "Selangor",
          "Terengganu",
          "Federal Territory of Kuala Lumpur",
          "Federal Territory of Labuan",
          "Federal Territory of Putrajaya"
         ],
         "marker": {
          "line": {
           "color": "white"
          }
         },
         "showscale": true,
         "text": [
          "% Gini: 0.36646<br>% Poverty Rate: 4.6<br>Mean Income: 8517<br>Mean Expenditure: 5342",
          "% Gini: 0.35938<br>% Poverty Rate: 9.0<br>Mean Income: 5550<br>Mean Expenditure: 3765",
          "% Gini: 0.3854<br>% Poverty Rate: 13.2<br>Mean Income: 4885<br>Mean Expenditure: 3505",
          "% Gini: 0.36963<br>% Poverty Rate: 4.2<br>Mean Income: 8057<br>Mean Expenditure: 5707",
          "% Gini: 0.3077<br>% Poverty Rate: 6.3<br>Mean Income: 5777<br>Mean Expenditure: 4107",
          "% Gini: 0.36853<br>% Poverty Rate: 4.4<br>Mean Income: 6788<br>Mean Expenditure: 4678",
          "% Gini: 0.36769<br>% Poverty Rate: 7.5<br>Mean Income: 5779<br>Mean Expenditure: 3903",
          "% Gini: 0.33589<br>% Poverty Rate: 4.0<br>Mean Income: 5664<br>Mean Expenditure: 3834",
          "% Gini: 0.37058<br>% Poverty Rate: 2.0<br>Mean Income: 8267<br>Mean Expenditure: 5322",
          "% Gini: 0.39491<br>% Poverty Rate: 19.7<br>Mean Income: 6171<br>Mean Expenditure: 3342",
          "% Gini: 0.3818<br>% Poverty Rate: 10.8<br>Mean Income: 6457<br>Mean Expenditure: 3915",
          "% Gini: 0.36123<br>% Poverty Rate: 1.5<br>Mean Income: 12233<br>Mean Expenditure: 6770",
          "% Gini: 0.32631<br>% Poverty Rate: 6.2<br>Mean Income: 7248<br>Mean Expenditure: 4796",
          "% Gini: 0.3796<br>% Poverty Rate: 1.4<br>Mean Income: 13325<br>Mean Expenditure: 7823",
          "% Gini: 0.30028<br>% Poverty Rate: 2.5<br>Mean Income: 8250<br>Mean Expenditure: 4176",
          "% Gini: 0.3678<br>% Poverty Rate: 0.1<br>Mean Income: 13473<br>Mean Expenditure: 8897"
         ],
         "type": "choroplethmapbox",
         "z": [
          "4028.3",
          "2163.1",
          "1830.6",
          "1008.6",
          "1207.9",
          "1614.3",
          "2514.4",
          "289.8",
          "1740.9",
          "3414.9",
          "2473.5",
          "7050.3",
          "1186.6",
          "1961.2",
          "96.9",
          "117.0"
         ],
         "zauto": true
        }
       ],
       "layout": {
        "mapbox": {
         "center": {
          "lat": 4,
          "lon": 109.688
         },
         "style": "carto-positron",
         "zoom": 4.8
        },
        "template": {
         "data": {
          "bar": [
           {
            "error_x": {
             "color": "#2a3f5f"
            },
            "error_y": {
             "color": "#2a3f5f"
            },
            "marker": {
             "line": {
              "color": "#E5ECF6",
              "width": 0.5
             },
             "pattern": {
              "fillmode": "overlay",
              "size": 10,
              "solidity": 0.2
             }
            },
            "type": "bar"
           }
          ],
          "barpolar": [
           {
            "marker": {
             "line": {
              "color": "#E5ECF6",
              "width": 0.5
             },
             "pattern": {
              "fillmode": "overlay",
              "size": 10,
              "solidity": 0.2
             }
            },
            "type": "barpolar"
           }
          ],
          "carpet": [
           {
            "aaxis": {
             "endlinecolor": "#2a3f5f",
             "gridcolor": "white",
             "linecolor": "white",
             "minorgridcolor": "white",
             "startlinecolor": "#2a3f5f"
            },
            "baxis": {
             "endlinecolor": "#2a3f5f",
             "gridcolor": "white",
             "linecolor": "white",
             "minorgridcolor": "white",
             "startlinecolor": "#2a3f5f"
            },
            "type": "carpet"
           }
          ],
          "choropleth": [
           {
            "colorbar": {
             "outlinewidth": 0,
             "ticks": ""
            },
            "type": "choropleth"
           }
          ],
          "contour": [
           {
            "colorbar": {
             "outlinewidth": 0,
             "ticks": ""
            },
            "colorscale": [
             [
              0,
              "#0d0887"
             ],
             [
              0.1111111111111111,
              "#46039f"
             ],
             [
              0.2222222222222222,
              "#7201a8"
             ],
             [
              0.3333333333333333,
              "#9c179e"
             ],
             [
              0.4444444444444444,
              "#bd3786"
             ],
             [
              0.5555555555555556,
              "#d8576b"
             ],
             [
              0.6666666666666666,
              "#ed7953"
             ],
             [
              0.7777777777777778,
              "#fb9f3a"
             ],
             [
              0.8888888888888888,
              "#fdca26"
             ],
             [
              1,
              "#f0f921"
             ]
            ],
            "type": "contour"
           }
          ],
          "contourcarpet": [
           {
            "colorbar": {
             "outlinewidth": 0,
             "ticks": ""
            },
            "type": "contourcarpet"
           }
          ],
          "heatmap": [
           {
            "colorbar": {
             "outlinewidth": 0,
             "ticks": ""
            },
            "colorscale": [
             [
              0,
              "#0d0887"
             ],
             [
              0.1111111111111111,
              "#46039f"
             ],
             [
              0.2222222222222222,
              "#7201a8"
             ],
             [
              0.3333333333333333,
              "#9c179e"
             ],
             [
              0.4444444444444444,
              "#bd3786"
             ],
             [
              0.5555555555555556,
              "#d8576b"
             ],
             [
              0.6666666666666666,
              "#ed7953"
             ],
             [
              0.7777777777777778,
              "#fb9f3a"
             ],
             [
              0.8888888888888888,
              "#fdca26"
             ],
             [
              1,
              "#f0f921"
             ]
            ],
            "type": "heatmap"
           }
          ],
          "heatmapgl": [
           {
            "colorbar": {
             "outlinewidth": 0,
             "ticks": ""
            },
            "colorscale": [
             [
              0,
              "#0d0887"
             ],
             [
              0.1111111111111111,
              "#46039f"
             ],
             [
              0.2222222222222222,
              "#7201a8"
             ],
             [
              0.3333333333333333,
              "#9c179e"
             ],
             [
              0.4444444444444444,
              "#bd3786"
             ],
             [
              0.5555555555555556,
              "#d8576b"
             ],
             [
              0.6666666666666666,
              "#ed7953"
             ],
             [
              0.7777777777777778,
              "#fb9f3a"
             ],
             [
              0.8888888888888888,
              "#fdca26"
             ],
             [
              1,
              "#f0f921"
             ]
            ],
            "type": "heatmapgl"
           }
          ],
          "histogram": [
           {
            "marker": {
             "pattern": {
              "fillmode": "overlay",
              "size": 10,
              "solidity": 0.2
             }
            },
            "type": "histogram"
           }
          ],
          "histogram2d": [
           {
            "colorbar": {
             "outlinewidth": 0,
             "ticks": ""
            },
            "colorscale": [
             [
              0,
              "#0d0887"
             ],
             [
              0.1111111111111111,
              "#46039f"
             ],
             [
              0.2222222222222222,
              "#7201a8"
             ],
             [
              0.3333333333333333,
              "#9c179e"
             ],
             [
              0.4444444444444444,
              "#bd3786"
             ],
             [
              0.5555555555555556,
              "#d8576b"
             ],
             [
              0.6666666666666666,
              "#ed7953"
             ],
             [
              0.7777777777777778,
              "#fb9f3a"
             ],
             [
              0.8888888888888888,
              "#fdca26"
             ],
             [
              1,
              "#f0f921"
             ]
            ],
            "type": "histogram2d"
           }
          ],
          "histogram2dcontour": [
           {
            "colorbar": {
             "outlinewidth": 0,
             "ticks": ""
            },
            "colorscale": [
             [
              0,
              "#0d0887"
             ],
             [
              0.1111111111111111,
              "#46039f"
             ],
             [
              0.2222222222222222,
              "#7201a8"
             ],
             [
              0.3333333333333333,
              "#9c179e"
             ],
             [
              0.4444444444444444,
              "#bd3786"
             ],
             [
              0.5555555555555556,
              "#d8576b"
             ],
             [
              0.6666666666666666,
              "#ed7953"
             ],
             [
              0.7777777777777778,
              "#fb9f3a"
             ],
             [
              0.8888888888888888,
              "#fdca26"
             ],
             [
              1,
              "#f0f921"
             ]
            ],
            "type": "histogram2dcontour"
           }
          ],
          "mesh3d": [
           {
            "colorbar": {
             "outlinewidth": 0,
             "ticks": ""
            },
            "type": "mesh3d"
           }
          ],
          "parcoords": [
           {
            "line": {
             "colorbar": {
              "outlinewidth": 0,
              "ticks": ""
             }
            },
            "type": "parcoords"
           }
          ],
          "pie": [
           {
            "automargin": true,
            "type": "pie"
           }
          ],
          "scatter": [
           {
            "fillpattern": {
             "fillmode": "overlay",
             "size": 10,
             "solidity": 0.2
            },
            "type": "scatter"
           }
          ],
          "scatter3d": [
           {
            "line": {
             "colorbar": {
              "outlinewidth": 0,
              "ticks": ""
             }
            },
            "marker": {
             "colorbar": {
              "outlinewidth": 0,
              "ticks": ""
             }
            },
            "type": "scatter3d"
           }
          ],
          "scattercarpet": [
           {
            "marker": {
             "colorbar": {
              "outlinewidth": 0,
              "ticks": ""
             }
            },
            "type": "scattercarpet"
           }
          ],
          "scattergeo": [
           {
            "marker": {
             "colorbar": {
              "outlinewidth": 0,
              "ticks": ""
             }
            },
            "type": "scattergeo"
           }
          ],
          "scattergl": [
           {
            "marker": {
             "colorbar": {
              "outlinewidth": 0,
              "ticks": ""
             }
            },
            "type": "scattergl"
           }
          ],
          "scattermapbox": [
           {
            "marker": {
             "colorbar": {
              "outlinewidth": 0,
              "ticks": ""
             }
            },
            "type": "scattermapbox"
           }
          ],
          "scatterpolar": [
           {
            "marker": {
             "colorbar": {
              "outlinewidth": 0,
              "ticks": ""
             }
            },
            "type": "scatterpolar"
           }
          ],
          "scatterpolargl": [
           {
            "marker": {
             "colorbar": {
              "outlinewidth": 0,
              "ticks": ""
             }
            },
            "type": "scatterpolargl"
           }
          ],
          "scatterternary": [
           {
            "marker": {
             "colorbar": {
              "outlinewidth": 0,
              "ticks": ""
             }
            },
            "type": "scatterternary"
           }
          ],
          "surface": [
           {
            "colorbar": {
             "outlinewidth": 0,
             "ticks": ""
            },
            "colorscale": [
             [
              0,
              "#0d0887"
             ],
             [
              0.1111111111111111,
              "#46039f"
             ],
             [
              0.2222222222222222,
              "#7201a8"
             ],
             [
              0.3333333333333333,
              "#9c179e"
             ],
             [
              0.4444444444444444,
              "#bd3786"
             ],
             [
              0.5555555555555556,
              "#d8576b"
             ],
             [
              0.6666666666666666,
              "#ed7953"
             ],
             [
              0.7777777777777778,
              "#fb9f3a"
             ],
             [
              0.8888888888888888,
              "#fdca26"
             ],
             [
              1,
              "#f0f921"
             ]
            ],
            "type": "surface"
           }
          ],
          "table": [
           {
            "cells": {
             "fill": {
              "color": "#EBF0F8"
             },
             "line": {
              "color": "white"
             }
            },
            "header": {
             "fill": {
              "color": "#C8D4E3"
             },
             "line": {
              "color": "white"
             }
            },
            "type": "table"
           }
          ]
         },
         "layout": {
          "annotationdefaults": {
           "arrowcolor": "#2a3f5f",
           "arrowhead": 0,
           "arrowwidth": 1
          },
          "autotypenumbers": "strict",
          "coloraxis": {
           "colorbar": {
            "outlinewidth": 0,
            "ticks": ""
           }
          },
          "colorscale": {
           "diverging": [
            [
             0,
             "#8e0152"
            ],
            [
             0.1,
             "#c51b7d"
            ],
            [
             0.2,
             "#de77ae"
            ],
            [
             0.3,
             "#f1b6da"
            ],
            [
             0.4,
             "#fde0ef"
            ],
            [
             0.5,
             "#f7f7f7"
            ],
            [
             0.6,
             "#e6f5d0"
            ],
            [
             0.7,
             "#b8e186"
            ],
            [
             0.8,
             "#7fbc41"
            ],
            [
             0.9,
             "#4d9221"
            ],
            [
             1,
             "#276419"
            ]
           ],
           "sequential": [
            [
             0,
             "#0d0887"
            ],
            [
             0.1111111111111111,
             "#46039f"
            ],
            [
             0.2222222222222222,
             "#7201a8"
            ],
            [
             0.3333333333333333,
             "#9c179e"
            ],
            [
             0.4444444444444444,
             "#bd3786"
            ],
            [
             0.5555555555555556,
             "#d8576b"
            ],
            [
             0.6666666666666666,
             "#ed7953"
            ],
            [
             0.7777777777777778,
             "#fb9f3a"
            ],
            [
             0.8888888888888888,
             "#fdca26"
            ],
            [
             1,
             "#f0f921"
            ]
           ],
           "sequentialminus": [
            [
             0,
             "#0d0887"
            ],
            [
             0.1111111111111111,
             "#46039f"
            ],
            [
             0.2222222222222222,
             "#7201a8"
            ],
            [
             0.3333333333333333,
             "#9c179e"
            ],
            [
             0.4444444444444444,
             "#bd3786"
            ],
            [
             0.5555555555555556,
             "#d8576b"
            ],
            [
             0.6666666666666666,
             "#ed7953"
            ],
            [
             0.7777777777777778,
             "#fb9f3a"
            ],
            [
             0.8888888888888888,
             "#fdca26"
            ],
            [
             1,
             "#f0f921"
            ]
           ]
          },
          "colorway": [
           "#636efa",
           "#EF553B",
           "#00cc96",
           "#ab63fa",
           "#FFA15A",
           "#19d3f3",
           "#FF6692",
           "#B6E880",
           "#FF97FF",
           "#FECB52"
          ],
          "font": {
           "color": "#2a3f5f"
          },
          "geo": {
           "bgcolor": "white",
           "lakecolor": "white",
           "landcolor": "#E5ECF6",
           "showlakes": true,
           "showland": true,
           "subunitcolor": "white"
          },
          "hoverlabel": {
           "align": "left"
          },
          "hovermode": "closest",
          "mapbox": {
           "style": "light"
          },
          "paper_bgcolor": "white",
          "plot_bgcolor": "#E5ECF6",
          "polar": {
           "angularaxis": {
            "gridcolor": "white",
            "linecolor": "white",
            "ticks": ""
           },
           "bgcolor": "#E5ECF6",
           "radialaxis": {
            "gridcolor": "white",
            "linecolor": "white",
            "ticks": ""
           }
          },
          "scene": {
           "xaxis": {
            "backgroundcolor": "#E5ECF6",
            "gridcolor": "white",
            "gridwidth": 2,
            "linecolor": "white",
            "showbackground": true,
            "ticks": "",
            "zerolinecolor": "white"
           },
           "yaxis": {
            "backgroundcolor": "#E5ECF6",
            "gridcolor": "white",
            "gridwidth": 2,
            "linecolor": "white",
            "showbackground": true,
            "ticks": "",
            "zerolinecolor": "white"
           },
           "zaxis": {
            "backgroundcolor": "#E5ECF6",
            "gridcolor": "white",
            "gridwidth": 2,
            "linecolor": "white",
            "showbackground": true,
            "ticks": "",
            "zerolinecolor": "white"
           }
          },
          "shapedefaults": {
           "line": {
            "color": "#2a3f5f"
           }
          },
          "ternary": {
           "aaxis": {
            "gridcolor": "white",
            "linecolor": "white",
            "ticks": ""
           },
           "baxis": {
            "gridcolor": "white",
            "linecolor": "white",
            "ticks": ""
           },
           "bgcolor": "#E5ECF6",
           "caxis": {
            "gridcolor": "white",
            "linecolor": "white",
            "ticks": ""
           }
          },
          "title": {
           "x": 0.05
          },
          "xaxis": {
           "automargin": true,
           "gridcolor": "white",
           "linecolor": "white",
           "ticks": "",
           "title": {
            "standoff": 15
           },
           "zerolinecolor": "white",
           "zerolinewidth": 2
          },
          "yaxis": {
           "automargin": true,
           "gridcolor": "white",
           "linecolor": "white",
           "ticks": "",
           "title": {
            "standoff": 15
           },
           "zerolinecolor": "white",
           "zerolinewidth": 2
          }
         }
        },
        "title": {
         "text": "Malaysia Population by State in 2022"
        }
       }
      }
     },
     "metadata": {},
     "output_type": "display_data"
    }
   ],
   "source": [
    "from plotly import graph_objects as go\n",
    "\n",
    "for col in pov_rate.columns:\n",
    "    pov_rate[col] = pov_rate[col].astype(str)\n",
    "    \n",
    "pov_rate['text'] = '% Gini: ' + pov_rate['gini'] + '<br>' + \\\n",
    "    '% Poverty Rate: ' + pov_rate['poverty'] + '<br>' + \\\n",
    "    'Mean Income: ' + pov_rate['income_mean'] + '<br>' + \\\n",
    "    'Mean Expenditure: ' + pov_rate['expenditure_mean'] \n",
    "    \n",
    "#Create figure object\n",
    "fig = go.Figure(\n",
    "    go.Choroplethmapbox(\n",
    "        geojson = 'states.geojson', #Assign geojson file\n",
    "        featureidkey = 'properties.Name', #Assign feature key\n",
    "        locations = pov_rate['state'], #Assign location data\n",
    "        z = pov_rate['population'], #Assign information data\n",
    "        zauto = True,\n",
    "        colorscale = 'purd',\n",
    "        colorbar_title='Population (k)',\n",
    "        showscale = True,\n",
    "        marker_line_color='white',\n",
    "        text=pov_rate['text']\n",
    "    )\n",
    ")\n",
    "\n",
    "#Update layout\n",
    "fig.update_layout(\n",
    "    title_text='Malaysia Population by State in 2022',\n",
    "    mapbox_style = \"carto-positron\", #Decide a style for the map\n",
    "    mapbox_zoom = 4.8, #Zoom in scale\n",
    "    mapbox_center = {\"lat\": 4, \"lon\": 109.688}, #Center location of the map\n",
    ")\n",
    "fig.show()"
   ]
  }
 ],
 "metadata": {
  "kernelspec": {
   "display_name": "Python 3",
   "language": "python",
   "name": "python3"
  },
  "language_info": {
   "codemirror_mode": {
    "name": "ipython",
    "version": 3
   },
   "file_extension": ".py",
   "mimetype": "text/x-python",
   "name": "python",
   "nbconvert_exporter": "python",
   "pygments_lexer": "ipython3",
   "version": "3.10.11"
  }
 },
 "nbformat": 4,
 "nbformat_minor": 2
}
